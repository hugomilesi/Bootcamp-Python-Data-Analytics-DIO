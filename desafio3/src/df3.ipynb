{
 "cells": [
  {
   "cell_type": "markdown",
   "metadata": {},
   "source": [
    "# Desafio de código python\n",
    "\n",
    "Resolução dos exercícios conforme as devidas solicitações, os códigos foram inclusos em funções para facilitar os testes para comparação com os exemplos."
   ]
  },
  {
   "cell_type": "markdown",
   "metadata": {},
   "source": [
    "# Desafio 1\n",
    "\n",
    "Você foi contratado pela empresa DIO Robots para programar um robô capaz de classificar números em uma das seguintes categorias: negativo, positivo ou zero. Para isso, você deve criar uma função de classificação que receba um número como parâmetro e retorne a mensagem \"negativo!\" ou \" positivo!\", de acordo com sua categoria.\n",
    "\n",
    "O programa deve ser executado continuamente, permitindo que o usuário insira vários números. Quando ele quiser encerrar a execução, deverá digitar um número igual a zero. A cada novo número inserido, o robô deve classificá-lo e exibir a mensagem correspondente. Ao final da execução, o programa deverá exibir a quantidade de números positivos, negativos e zeros que foram inseridos.\n",
    "\n",
    "### Entrada\n",
    "\n",
    "A entrada deve receber valores inteiros.\n",
    "\n",
    "- **numero:** valor inteiro que pode ser positivo, negativo ou zero. Lembrando que a entrada zero deve encerrar o programa.\n",
    "\n",
    "### Saída\n",
    "\n",
    "1O código deverá retornar uma mensagem (string) informando se o número é positivo ou não. Ao receber o valor 0, ele deverá encerrar o e informar quantos números foram positivos e negativos.\n",
    "\n",
    "### Exemplos\n",
    "\n",
    "A tabela abaixo apresenta exemplos com alguns dados de entrada e suas respectivas saídas esperadas. Certifique-se de testar seu programa com esses exemplos e com outros casos possíveis."
   ]
  },
  {
   "cell_type": "code",
   "execution_count": 10,
   "metadata": {},
   "outputs": [
    {
     "name": "stdout",
     "output_type": "stream",
     "text": [
      "+---------+------------------------------------------+\n",
      "| Entrada |                  Saída                   |\n",
      "+---------+------------------------------------------+\n",
      "|    1    |                positivo!                 |\n",
      "|    -1   |                negativo!                 |\n",
      "|    2    |                positivo!                 |\n",
      "|    0    |  2 números positivos, 1 número negativo  |\n",
      "|         |                                          |\n",
      "|    1    |                positivo!                 |\n",
      "|    -1   |                negativo!                 |\n",
      "|    0    |   1 número positivo, 1 número negativo   |\n",
      "|         |                                          |\n",
      "|    1    |                positivo!                 |\n",
      "|    1    |                positivo!                 |\n",
      "|    -1   |                negativo!                 |\n",
      "|    -1   |                negativo!                 |\n",
      "|    0    | 2 números positivos, 2 números negativos |\n",
      "+---------+------------------------------------------+\n"
     ]
    }
   ],
   "source": [
    "from prettytable import PrettyTable\n",
    "\n",
    "# Create the table\n",
    "table = PrettyTable()\n",
    "\n",
    "# Criando a tabela\n",
    "table = PrettyTable([\"Entrada\", \"Saída\"])\n",
    "\n",
    "\n",
    "\n",
    "# Add columns\n",
    "table.field_names = [\"Entrada\", \"Saída\"]\n",
    "\n",
    "# Add rows\n",
    "table.add_row([\"1\\n-1\\n2\\n0\", \"positivo!\\nnegativo!\\npositivo!\\n2 números positivos, 1 número negativo\"])\n",
    "table.add_row([\"\", \"\"])\n",
    "table.add_row([\"1\\n-1\\n0\", \"positivo!\\nnegativo!\\n1 número positivo, 1 número negativo\"])\n",
    "table.add_row([\"\", \"\"])\n",
    "table.add_row([\"1\\n1\\n-1\\n-1\\n0\", \"positivo!\\npositivo!\\nnegativo!\\nnegativo!\\n2 números positivos, 2 números negativos\"])\n",
    "\n",
    "# Print the table\n",
    "print(table)"
   ]
  },
  {
   "cell_type": "markdown",
   "metadata": {},
   "source": [
    "# Resolução"
   ]
  },
  {
   "cell_type": "code",
   "execution_count": 4,
   "metadata": {},
   "outputs": [
    {
     "name": "stdout",
     "output_type": "stream",
     "text": [
      "Input 1:\n",
      "positivo!\n",
      "negativo!\n",
      "positivo!\n",
      "\n",
      "2 números positivos, 1 números negativos\n",
      "\n",
      "Input 2:\n",
      "positivo!\n",
      "negativo!\n",
      "\n",
      "1 números positivos, 1 números negativos\n",
      "\n",
      "Input 3:\n",
      "positivo!\n",
      "positivo!\n",
      "negativo!\n",
      "negativo!\n",
      "\n",
      "2 números positivos, 2 números negativos\n"
     ]
    }
   ],
   "source": [
    "def classificar_numero(numero):\n",
    "    if numero > 0:\n",
    "        return \"positivo!\"\n",
    "    elif numero < 0:\n",
    "        return \"negativo!\"\n",
    "    else:\n",
    "        return \"\"\n",
    "    \n",
    "def main(input_list):\n",
    "    positivos = 0\n",
    "    negativos = 0\n",
    "    \n",
    "    for numero in input_list:\n",
    "        classificacao = classificar_numero(numero)\n",
    "        print(classificacao)\n",
    "        \n",
    "        if classificacao == \"positivo!\":\n",
    "            positivos += 1\n",
    "        elif classificacao == \"negativo!\":\n",
    "            negativos += 1\n",
    "    \n",
    "    print(f\"{positivos} números positivos, {negativos} números negativos\")\n",
    "\n",
    "if __name__ == \"__main__\":\n",
    "    input1 = [1, -1, 2, 0]\n",
    "    input2 = [1, -1, 0]\n",
    "    input3 = [1, 1, -1, -1, 0]\n",
    "\n",
    "    print(\"Input 1:\")\n",
    "    main(input1)\n",
    "    \n",
    "    print(\"\\nInput 2:\")\n",
    "    main(input2)\n",
    "    \n",
    "    print(\"\\nInput 3:\")\n",
    "    main(input3)\n"
   ]
  },
  {
   "cell_type": "markdown",
   "metadata": {},
   "source": [
    "# Desafio 2\n",
    "\n",
    "Nesta missão, sua tarefa é mais desafiadora do que nunca! Em um pomar mágico, as frutas têm características únicas que as diferenciam. Seu objetivo é criar um modelo de machine learning capaz de classificar frutas com base em três características: peso, textura (suave ou áspera) e cor (vermelha, laranja ou amarela). Cada tipo de fruta tem limites específicos para essas características.\n",
    "\n",
    "- Maçã:\n",
    "\n",
    "    - Peso mínimo: 130 gramas\n",
    "    - Textura: Ápera (rough)\n",
    "    - Cor: Vermelha (red)\n",
    "\n",
    "- Laranja:\n",
    "\n",
    "    - Peso mínimo: 120 gramas\n",
    "    - Textura: Suave (smooth)\n",
    "    - Cor: Laranja (orange)\n",
    "\n",
    "- Morango:\n",
    "\n",
    "    - Peso mínimo: 150 gramas\n",
    "    - Textura: Suave (smooth)\n",
    "    - Cor: Vermelha (red)\n",
    "\n",
    "- Banana:\n",
    "\n",
    "    - Peso mínimo: 150 gramas\n",
    "    - Textura: Áspera (rough)\n",
    "    - Cor: Amarela (yellow)\n",
    "\n",
    "\n",
    "### Entrada\n",
    "\n",
    "Seu código deve receber as seguintes entradas do usuário:\n",
    "\n",
    "- Peso da fruta (em gramas): um número real que representa o peso da fruta.\n",
    "Textura da fruta (suave ou áspera): uma string indicando se a fruta é suave (\"smooth\") ou áspera (\"rough\").\n",
    "Cor da fruta (vermelha, laranja ou amarela): uma string indicando a cor da fruta.\n",
    "\n",
    "### Saída\n",
    "\n",
    "O código deve produzir uma saída indicando a classificação da fruta com base nas características fornecidas.\n",
    "\n",
    "\n",
    "### Exemplos\n",
    "\n",
    "A tabela abaixo apresenta exemplos com alguns dados de entrada e suas respectivas saídas esperadas. Certifique-se de testar seu programa com esses exemplos e com outros casos possíveis."
   ]
  },
  {
   "cell_type": "code",
   "execution_count": 11,
   "metadata": {},
   "outputs": [
    {
     "name": "stdout",
     "output_type": "stream",
     "text": [
      "+---------+---------------------------------------+\n",
      "| Entrada |                 Saída                 |\n",
      "+---------+---------------------------------------+\n",
      "|   150   |         A fruta é um morango!         |\n",
      "|  smooth |                                       |\n",
      "|   red   |                                       |\n",
      "|         |                                       |\n",
      "|   140   | Não foi possível classificar a fruta. |\n",
      "|  rough  |                                       |\n",
      "|  yellow |                                       |\n",
      "|         |                                       |\n",
      "|   150   |         A fruta é uma laranja!        |\n",
      "|  smooth |                                       |\n",
      "|  orange |                                       |\n",
      "+---------+---------------------------------------+\n"
     ]
    }
   ],
   "source": [
    "from prettytable import PrettyTable\n",
    "\n",
    "# Create the table\n",
    "table = PrettyTable()\n",
    "\n",
    "# Add columns\n",
    "table.field_names = [\"Entrada\", \"Saída\"]\n",
    "\n",
    "# Add rows\n",
    "table.add_row([\"150\\nsmooth\\nred\", \"A fruta é um morango!\"])\n",
    "table.add_row([\" \", \" \"])\n",
    "table.add_row([\"140\\nrough\\nyellow\", \"Não foi possível classificar a fruta.\"])\n",
    "table.add_row([\" \", \" \"])\n",
    "table.add_row([\"150\\nsmooth\\norange\", \"A fruta é uma laranja!\"])\n",
    "\n",
    "# Print the table\n",
    "print(table)"
   ]
  },
  {
   "cell_type": "markdown",
   "metadata": {},
   "source": [
    "# Resolução"
   ]
  },
  {
   "cell_type": "code",
   "execution_count": 14,
   "metadata": {},
   "outputs": [
    {
     "name": "stdout",
     "output_type": "stream",
     "text": [
      "A fruta é um morango! \n",
      "\n",
      "Não foi possível classificar a fruta. \n",
      "\n",
      "A fruta é uma laranja! \n",
      "\n"
     ]
    }
   ],
   "source": [
    "def prever_fruta(peso, textura, cor):\n",
    "     # Lógica de decisão baseada nas características fornecidas\n",
    "    if peso >= 150 and textura == \"smooth\" and cor == \"red\":\n",
    "        return \"A fruta é um morango!\"\n",
    "    elif peso >= 150 and textura == \"rough\" and cor == \"yellow\":\n",
    "        return \"A fruta é uma banana!\"\n",
    "    elif peso >= 130 and textura == \"rough\" and cor == \"red\":\n",
    "        return \"A fruta é uma maçã!\"\n",
    "    elif peso >= 120 and textura == \"smooth\" and cor == \"orange\":\n",
    "        return \"A fruta é uma laranja!\"\n",
    "    else:\n",
    "        return \"Não foi possível classificar a fruta.\"\n",
    "# TODO: Desenvolva a Função para prever a classe da fruta\n",
    "\n",
    "\n",
    "peso_fruta = [150, 140, 150]\n",
    "textura_fruta = ['smooth', 'rough', 'smooth']\n",
    "cor_fruta = ['red', 'yellow', 'orange']\n",
    "\n",
    "# Chamada da função de previsão\n",
    "for i in range(3):\n",
    "    print(prever_fruta(peso_fruta[i], textura_fruta[i], cor_fruta[i]), '\\n')\n"
   ]
  },
  {
   "cell_type": "markdown",
   "metadata": {},
   "source": [
    "# Desafio 3\n",
    "\n",
    "No reino mágico onde cada feiticeiro possui uma afinidade elemental única, seu desafio é criar um modelo de machine learning para prever essa afinidade. Os feiticeiros podem pertencer a um dos quatro elementos mágicos: Fogo, Água, Terra ou Ar. A predição será baseada em cinco atributos mágicos: intensidade do feitiço, presença de componente raro, fase lunar, idade do feiticeiro e afinidade com animais mágicos.\n",
    "\n",
    "Aqui estão os critérios mágicos para cada elemento:\n",
    "\n",
    "- Elemento Fogo:\n",
    "\n",
    "    - Intensidade do feitiço maior ou igual a 5.\n",
    "    - Fase lunar durante o feitiço é crescente.\n",
    "    - Idade do feiticeiro é superior a 100 anos.\n",
    "\n",
    "- Elemento Água:\n",
    "\n",
    "    - Intensidade do feitiço maior ou igual a 7.\n",
    "    - Presença de componente raro.\n",
    "    - Fase lunar durante o feitiço é cheia.\n",
    "    - Idade do feiticeiro é igual ou inferior a 100 anos.\n",
    "    - Afinidade com animais mágicos.\n",
    "\n",
    "- Elemento Terra:\n",
    "\n",
    "    - Intensidade do feitiço maior ou igual a 7.\n",
    "    - Presença de componente raro.\n",
    "    - Fase lunar durante o feitiço é cheia.\n",
    "    - Idade do feiticeiro é igual ou inferior a 100 anos.\n",
    "    - Afinidade com animais mágicos.\n",
    "\n",
    "- Elemento Ar:\n",
    "\n",
    "    - Caso não se encaixe nos critérios anteriores.\n",
    "\n",
    "\n",
    "### Entrada\n",
    "\n",
    "Seu código deve receber as seguintes entradas do usuário:\n",
    "\n",
    "- Intensidade do feitiço (de 1 a 10): um número inteiro representando a força do feitiço.\n",
    "- Componente raro (sim ou não): uma string indicando se o feitiço contém um componente raro.\n",
    "- Fase lunar (cheia, crescente ou minguante): uma string indicando a fase lunar durante o lançamento do feitiço.\n",
    "- Idade do feiticeiro (em anos): um número inteiro representando a idade do feiticeiro.\n",
    "- Afinidade com animais mágicos (sim ou não): uma string indicando se o feiticeiro tem afinidade com animais mágicos.\n",
    "\n",
    "\n",
    "### Saída\n",
    "\n",
    "O código deve produzir uma saída indicando a afinidade elemental prevista do feiticeiro com base nos atributos fornecidos.\n",
    "\n",
    "\n",
    "### Exemplos\n",
    "\n",
    "A tabela abaixo apresenta exemplos com alguns dados de entrada e suas respectivas saídas esperadas. Certifique-se de testar seu programa com esses exemplos e com outros casos possíveis.\n"
   ]
  },
  {
   "cell_type": "code",
   "execution_count": 19,
   "metadata": {},
   "outputs": [
    {
     "name": "stdout",
     "output_type": "stream",
     "text": [
      "+-----------+-------------------------------------------------------------+\n",
      "|  Entrada  |                            Saída                            |\n",
      "+-----------+-------------------------------------------------------------+\n",
      "|     6     |                                                             |\n",
      "|    sim    |                                                             |\n",
      "| crescente |  A afinidade elemental do feiticeiro é com o elemento Fogo! |\n",
      "|    110    |                                                             |\n",
      "|    sim    |                                                             |\n",
      "|           |                                                             |\n",
      "|     8     |                                                             |\n",
      "|    sim    |                                                             |\n",
      "|   cheia   |  A afinidade elemental do feiticeiro é com o elemento Água! |\n",
      "|     80    |                                                             |\n",
      "|    não    |                                                             |\n",
      "|           |                                                             |\n",
      "|     9     |                                                             |\n",
      "|    sim    |                                                             |\n",
      "|   cheia   | A afinidade elemental do feiticeiro é com o elemento Terra! |\n",
      "|     80    |                                                             |\n",
      "|    sim    |                                                             |\n",
      "|           |                                                             |\n",
      "+-----------+-------------------------------------------------------------+\n"
     ]
    }
   ],
   "source": [
    "# Create the table\n",
    "table = PrettyTable()\n",
    "\n",
    "# Add columns\n",
    "table.field_names = [\"Entrada\", \"Saída\"]\n",
    "\n",
    "# Add rows\n",
    "table.add_row([\"6\\nsim\\ncrescente\\n110\\nsim\", \"\\n\\nA afinidade elemental do feiticeiro é com o elemento Fogo!\"])\n",
    "table.add_row([\"\", \"\"])\n",
    "table.add_row([\"8\\nsim\\ncheia\\n80\\nnão\", \"\\n\\nA afinidade elemental do feiticeiro é com o elemento Água!\"])\n",
    "table.add_row([\"\", \"\"])\n",
    "table.add_row([\"9\\nsim\\ncheia\\n80\\nsim\", \"\\n\\nA afinidade elemental do feiticeiro é com o elemento Terra!\"])\n",
    "table.add_row([\"\", \"\"])\n",
    "\n",
    "# Print the table\n",
    "print(table)"
   ]
  },
  {
   "cell_type": "markdown",
   "metadata": {},
   "source": [
    "# Resolução"
   ]
  },
  {
   "cell_type": "code",
   "execution_count": 21,
   "metadata": {},
   "outputs": [
    {
     "name": "stdout",
     "output_type": "stream",
     "text": [
      "A afinidade elemental do feiticeiro é com o elemento Fogo! \n",
      "\n",
      "A afinidade elemental do feiticeiro é com o elemento Água! \n",
      "\n",
      "A afinidade elemental do feiticeiro é com o elemento Terra! \n",
      "\n"
     ]
    }
   ],
   "source": [
    "# Função para prever a afinidade elemental do feiticeiro\n",
    "def prever_afinidade_elemental(intensidade, componente_raro, fase_lunar, idade_feiticeiro, afinidade_animais):\n",
    "    # Convertendo a resposta do componente raro e afinidade com animais para booleanos\n",
    "    componente_raro = componente_raro.lower() == \"sim\"\n",
    "    afinidade_animais = afinidade_animais.lower() == \"sim\"\n",
    "\n",
    "    # Desenvolvendo a Lógica de decisão para prever a afinidade elemental\n",
    "    if intensidade >= 5 and fase_lunar == \"crescente\" and idade_feiticeiro > 100:\n",
    "        return \"A afinidade elemental do feiticeiro é com o elemento Fogo!\"\n",
    "    elif intensidade >= 7 and componente_raro and fase_lunar == \"cheia\" and idade_feiticeiro <= 100 and afinidade_animais:\n",
    "        return \"A afinidade elemental do feiticeiro é com o elemento Terra!\"\n",
    "    elif intensidade >= 7 and componente_raro and fase_lunar == \"cheia\" and idade_feiticeiro <= 100:\n",
    "        return \"A afinidade elemental do feiticeiro é com o elemento Água!\"\n",
    "    elif intensidade >= 5:\n",
    "        return \"A afinidade elemental do feiticeiro é com o elemento Ar!\"\n",
    "    else:\n",
    "        return \"A afinidade elemental do feiticeiro não pode ser determinada.\"\n",
    "   \n",
    "\n",
    "# Entrada do usuário\n",
    "intensidade_feitico = [6,8,9]\n",
    "componente_raro_feitico = ['sim', 'sim', 'sim']\n",
    "fase_lunar_feitico = ['crescente', 'cheia', 'cheia']\n",
    "idade_feiticeiro = [110, 80, 80]\n",
    "afinidade_animais_feiticeiro = ['sim', 'não', 'sim']\n",
    "\n",
    "# Fazendo a previsão\n",
    "for i in range(3):\n",
    "    print(prever_afinidade_elemental(intensidade_feitico[i], componente_raro_feitico[i], fase_lunar_feitico[i], idade_feiticeiro[i], afinidade_animais_feiticeiro[i]), '\\n')\n"
   ]
  }
 ],
 "metadata": {
  "kernelspec": {
   "display_name": "gas_kernel",
   "language": "python",
   "name": "gas_kernel"
  },
  "language_info": {
   "codemirror_mode": {
    "name": "ipython",
    "version": 3
   },
   "file_extension": ".py",
   "mimetype": "text/x-python",
   "name": "python",
   "nbconvert_exporter": "python",
   "pygments_lexer": "ipython3",
   "version": "3.12.2"
  }
 },
 "nbformat": 4,
 "nbformat_minor": 2
}
