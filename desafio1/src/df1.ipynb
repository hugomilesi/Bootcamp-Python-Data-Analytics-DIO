{
 "cells": [
  {
   "cell_type": "markdown",
   "metadata": {},
   "source": [
    "# Desafio de código python\n",
    "\n",
    "Resolução dos exercícios conforme as devidas solicitações, os códigos foram inclusos em funções para facilitar os testes para comparação com os exemplos."
   ]
  },
  {
   "cell_type": "markdown",
   "metadata": {},
   "source": [
    "# Desafio 1\n",
    "\n",
    "### Entrada\n",
    "\n",
    "Seu programa deve solicitar ao usuário a entrada de um número inteiro positivo, representando a quantidade de passos que o explorador deve dar na floresta.\n",
    "\n",
    "### Saída\n",
    "\n",
    "- O programa deve imprimir uma mensagem indicando o progresso do explorador na floresta. Utilize um laço de repetição para simular os passos do explorador. \n",
    "\n",
    "- A cada passo, imprima uma mensagem informando a distância percorrida até o momento.\n",
    "\n"
   ]
  },
  {
   "cell_type": "code",
   "execution_count": 7,
   "metadata": {},
   "outputs": [
    {
     "name": "stdout",
     "output_type": "stream",
     "text": [
      "+---------------------+-------------------------------+\n",
      "| Exemplos de Entrada |       Exemplos de Saída       |\n",
      "+---------------------+-------------------------------+\n",
      "|          2          |      Explorador: 1 passo      |\n",
      "|                     |      Explorador: 2 passos     |\n",
      "|                     |                               |\n",
      "|                     |      Explorador: 1 passo      |\n",
      "|          3          |      Explorador: 2 passos     |\n",
      "|                     |      Explorador: 3 passos     |\n",
      "|                     |      Explorador: 2 passos     |\n",
      "|                     |                               |\n",
      "|          0          | Nenhum passo dado na floresta |\n",
      "+---------------------+-------------------------------+\n"
     ]
    }
   ],
   "source": [
    "from prettytable import PrettyTable\n",
    "\n",
    "# Criar a tabela\n",
    "table = PrettyTable()\n",
    "# Adicionar as linhas à tabela\n",
    "table.field_names = [\"Exemplos de Entrada\", \"Exemplos de Saída\"]\n",
    "table.add_row([2, \"Explorador: 1 passo\"])\n",
    "table.add_row([\"\", \"Explorador: 2 passos\"])\n",
    "table.add_row([\"\", \"\"])\n",
    "table.add_row([\"\", \"Explorador: 1 passo\"])\n",
    "table.add_row([3, \"Explorador: 2 passos\"])\n",
    "table.add_row([\"\", \"Explorador: 3 passos\"])\n",
    "table.add_row([\"\", \"Explorador: 2 passos\"])\n",
    "table.add_row([\"\", \"\"])\n",
    "table.add_row([0, \"Nenhum passo dado na floresta\"])\n",
    "# Exibir a tabela\n",
    "print(table)\n"
   ]
  },
  {
   "cell_type": "markdown",
   "metadata": {},
   "source": [
    "# Resolução"
   ]
  },
  {
   "cell_type": "code",
   "execution_count": 6,
   "metadata": {},
   "outputs": [
    {
     "name": "stdout",
     "output_type": "stream",
     "text": [
      "Explorador: 1 passo\n",
      "Explorador: 2 passos\n",
      "\n",
      "\n",
      "Explorador: 1 passo\n",
      "Explorador: 2 passos\n",
      "Explorador: 3 passos\n",
      "\n",
      "\n",
      "Nenhum passo dado na floresta.\n",
      "\n",
      "\n"
     ]
    }
   ],
   "source": [
    "# Desafio: A Aventura do Explorador\n",
    "# Entrada\n",
    "quantidade_passos = [2,3,0]\n",
    "\n",
    "def aventura_do_explorador(qtde_passos):\n",
    "    \"\"\"\n",
    "    Simula a aventura do explorador na floresta, conforme o número de passos fornecido pelo usuário.\n",
    "    \"\"\"\n",
    "\n",
    "    # Verifica se a quantidade de passos é positiva\n",
    "    if qtde_passos > 0:\n",
    "        # Realiza um loop do tamanho da quantidade de passos\n",
    "        for n in range(1, qtde_passos + 1):\n",
    "            if n == 1:\n",
    "                print(f\"Explorador: {n} passo\")\n",
    "            else:\n",
    "                print(f\"Explorador: {n} passos\")\n",
    "\n",
    "    # Se a quantidade de passos for zero, imprime uma mensagem específica\n",
    "    elif qtde_passos == 0:\n",
    "        print(\"Nenhum passo dado na floresta.\")\n",
    "\n",
    "    # Se a quantidade de passos for negativa, informa ao usuário que a entrada é inválida\n",
    "    else:\n",
    "        print(\"Quantidade de passos não pode ser negativa.\")\n",
    "\n",
    "# Chamada da função principal para iniciar a aventura do explorador\n",
    "for i in quantidade_passos:\n",
    "    aventura_do_explorador(i)\n",
    "    print('\\n')\n"
   ]
  },
  {
   "cell_type": "markdown",
   "metadata": {},
   "source": [
    "# Desafio 2\n",
    "- Em um jogo de RPG, os personagens geralmente possuem uma lista de itens que podem ser utilizados durante o jogo. Esses itens podem ser armas, armaduras, poções de cura, entre outros. É importante que o jogador tenha um controle desses itens para poder utilizá-los no momento adequado.\n",
    "\n",
    "- Crie um programa que permita cadastrar uma lista de itens que o personagem possui. A lista deve conter o valor fixo de 3 itens e deve ser exibida na tela.\n",
    "\n",
    "\n",
    "### Entrada\n",
    "\n",
    "- O programa deve solicitar ao usuário o nome dos 3 itens que o personagem possui. \n",
    "\n",
    "- Cada item deve ser cadastrado separadamente.\n",
    "\n",
    "### Saída\n",
    "\n",
    "- Após receber os itens cadastrados pelo usuário, o programa deve exibir na tela a lista de itens que o personagem possui. \n",
    "- A saída deve ter o seguinte formato:\n",
    "\n",
    "```\n",
    "Lista de itens:\n",
    "- [item1]\n",
    "- [item2]\n",
    "- [item3]\n",
    "```\n",
    "\n",
    "\n",
    "### Exemplos"
   ]
  },
  {
   "cell_type": "code",
   "execution_count": 13,
   "metadata": {},
   "outputs": [
    {
     "name": "stdout",
     "output_type": "stream",
     "text": [
      "+---------------------+-------------------+\n",
      "| Exemplos de Entrada | Exemplos de Saída |\n",
      "+---------------------+-------------------+\n",
      "|                     |  Lista de itens:  |\n",
      "|        Espada       |      - Espada     |\n",
      "|        Escudo       |      - Escudo     |\n",
      "|        Poção        |      - Poção      |\n",
      "|                     |                   |\n",
      "|                     |  Lista de itens:  |\n",
      "|         Gema        |       - Gema      |\n",
      "|        Flecha       |      - Flecha     |\n",
      "|         Capa        |       - Capa      |\n",
      "|                     |                   |\n",
      "|                     |  Lista de itens:  |\n",
      "|      Masterball     |    - Masterball   |\n",
      "|        Potion       |      - Potion     |\n",
      "|        Elixir       |      - Elixir     |\n",
      "+---------------------+-------------------+\n"
     ]
    }
   ],
   "source": [
    "from prettytable import PrettyTable\n",
    "\n",
    "# Criar a tabela\n",
    "table = PrettyTable()\n",
    "# Adicionar as linhas à tabela\n",
    "table.field_names = [\"Exemplos de Entrada\", \"Exemplos de Saída\"]\n",
    "table.add_row([\"\", \"Lista de itens:\"])\n",
    "table.add_row([\"Espada\", \"- Espada\"])\n",
    "table.add_row([\"Escudo\", \"- Escudo\"])\n",
    "table.add_row([\"Poção\", \"- Poção\"])\n",
    "table.add_row([\"\", \"\"])\n",
    "table.add_row([\"\", \"Lista de itens:\"])\n",
    "table.add_row([\"Gema\", \"- Gema\"])\n",
    "table.add_row([\"Flecha\", \"- Flecha\"])\n",
    "table.add_row([\"Capa\", \"- Capa\"])\n",
    "table.add_row([\"\", \"\"])\n",
    "table.add_row([\"\", \"Lista de itens:\"])\n",
    "table.add_row([\"Masterball\", \"- Masterball\"])\n",
    "table.add_row([\"Potion\", \"- Potion\"])\n",
    "table.add_row([\"Elixir\", \"- Elixir\"])\n",
    "# Exibir a tabela\n",
    "print(table)\n"
   ]
  },
  {
   "cell_type": "code",
   "execution_count": 16,
   "metadata": {},
   "outputs": [
    {
     "name": "stdout",
     "output_type": "stream",
     "text": [
      "Lista de itens:\n",
      "- Espada\n",
      "- Escudo\n",
      "- Poção\n",
      "\n",
      "\n",
      "Lista de itens:\n",
      "- Gema\n",
      "- Flecha\n",
      "- Capa\n",
      "\n",
      "\n",
      "Lista de itens:\n",
      "- Masterball\n",
      "- Potion\n",
      "- Elixir\n",
      "\n",
      "\n"
     ]
    }
   ],
   "source": [
    "# Lista para armazenar os itens\n",
    "input1 = ['Espada', 'Escudo', 'Poção']\n",
    "input2 = ['Gema', 'Flecha', \"Capa\"]\n",
    "input3 = [\"Masterball\", \"Potion\", \"Elixir\"]\n",
    "\n",
    "def show_items(input):\n",
    "  print(\"Lista de itens:\")\n",
    "  # Exibindo items separadamente\n",
    "  for i in range(3):\n",
    "      item = input[i]\n",
    "      print(\"-\", item)\n",
    "  print('\\n')\n",
    "      \n",
    "show_items(input1)\n",
    "show_items(input2)\n",
    "show_items(input3)\n",
    "    "
   ]
  },
  {
   "cell_type": "markdown",
   "metadata": {},
   "source": [
    "# Desafio 3\n",
    "\n",
    "Com as máquinas pesadas agrupadas estrategicamente, graças ao seu algoritmo de cálculo energético, agora a mineração está muito mais eficiente! Com isso, os CodeMiners logo terão que aumentar a capacidade de armazenamento de dados em seus discos de Mithril. Atualmente, cada máquina tem uma capacidade em teraflops e todas terão um upgrade! Escreva um programa que calcule a nova capacidade total de todas as máquinas após um aumento percentual específico.\n",
    "\n",
    "### Entrada\n",
    "\n",
    "Dois valores inteiros positivos, representando a capacidade atual total em teraflops e o aumento percentual, separados por espaço.\n",
    "\n",
    "\n",
    "### Saída\n",
    "\n",
    "Dois valores inteiros positivos, representando a capacidade atual total em teraflops e o aumento percentual, separados por espaço.\n",
    "\n",
    "\n",
    "### Exemplos\n"
   ]
  },
  {
   "cell_type": "code",
   "execution_count": 14,
   "metadata": {},
   "outputs": [
    {
     "name": "stdout",
     "output_type": "stream",
     "text": [
      "+---------+-------+\n",
      "| Entrada | Saída |\n",
      "+---------+-------+\n",
      "|  100 20 |  120  |\n",
      "|  50 10  |   55  |\n",
      "|  200 50 |  300  |\n",
      "+---------+-------+\n"
     ]
    }
   ],
   "source": [
    "# Criando a tabela\n",
    "tabela = PrettyTable([\"Entrada\", \"Saída\"])\n",
    "\n",
    "# Adicionando os dados à tabela\n",
    "tabela.add_row([\"100 20\", 120])\n",
    "tabela.add_row([\"50 10\", 55])\n",
    "tabela.add_row([\"200 50\", 300])\n",
    "\n",
    "# Exibindo a tabela\n",
    "print(tabela)"
   ]
  },
  {
   "cell_type": "code",
   "execution_count": 22,
   "metadata": {},
   "outputs": [
    {
     "name": "stdout",
     "output_type": "stream",
     "text": [
      "120 \n",
      "\n",
      "55 \n",
      "\n",
      "300 \n",
      "\n"
     ]
    }
   ],
   "source": [
    "capacidade1, aumento1 = [100, 20]\n",
    "capacidade2, aumento2 = [50, 10]\n",
    "capacidade3, aumento3 = [200, 50]\n",
    "\n",
    "def teraflop_calc(capacidade, aumento):\n",
    "  # Calcula o aumento em teraflops\n",
    "  aumento_teraflops = (aumento / 100) * capacidade\n",
    "  \n",
    "  # Calcula a nova capacidade total\n",
    "  nova_capacidade = capacidade + aumento_teraflops\n",
    "  \n",
    "  # Imprime a nova capacidade\n",
    "  print(int(nova_capacidade), \"\\n\")\n",
    "  \n",
    "\n",
    "teraflop_calc(capacidade1, aumento1)\n",
    "teraflop_calc(capacidade2, aumento2)\n",
    "teraflop_calc(capacidade3, aumento3)"
   ]
  }
 ],
 "metadata": {
  "kernelspec": {
   "display_name": "gas_kernel",
   "language": "python",
   "name": "gas_kernel"
  },
  "language_info": {
   "codemirror_mode": {
    "name": "ipython",
    "version": 3
   },
   "file_extension": ".py",
   "mimetype": "text/x-python",
   "name": "python",
   "nbconvert_exporter": "python",
   "pygments_lexer": "ipython3",
   "version": "3.12.2"
  }
 },
 "nbformat": 4,
 "nbformat_minor": 2
}
