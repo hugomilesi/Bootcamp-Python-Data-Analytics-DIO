{
 "cells": [
  {
   "cell_type": "markdown",
   "metadata": {},
   "source": [
    "# Desafio de código python\n",
    "\n",
    "Resolução dos exercícios conforme as devidas solicitações, os códigos foram inclusos em funções para facilitar os testes para comparação com os exemplos."
   ]
  },
  {
   "cell_type": "markdown",
   "metadata": {},
   "source": [
    "# Desafio 1\n",
    "\n",
    "Você foi contratado por um banco para desenvolver um programa que auxilie seus clientes a realizar depósitos em suas contas. O programa deve solicitar ao cliente o valor do depósito e verificar se o valor é válido. Se o valor for maior do que zero, o programa deve adicionar o valor ao saldo da conta. Caso contrário, o programa deve exibir uma mensagem de erro. O programa deve solicitar apenas uma vez o valor de depósito.\n",
    "\n",
    "### Entrada\n",
    "\n",
    "1. O programa deve receber o valor de depósito digitado pelo cliente. \n",
    "\n",
    "2. Os valor pode ser decimal, representando valor em reais.\n",
    "\n",
    "### Saída\n",
    "\n",
    "1. O programa deve exibir uma mensagem de sucesso quando um valor de depósito válido for informado e o saldo da conta for atualizado. Se o valor for \"0\", deverá imprimir uma mensagem encerrando o programa. \n",
    "\n",
    "2. Caso um valor inválido seja digitado, o programa deve exibir uma mensagem de erro solicitando um novo valor.\n",
    "\n",
    "### Exemplos\n",
    "\n",
    "A tabela abaixo apresenta exemplos com alguns dados de entrada e suas respectivas saídas esperadas. Certifique-se de testar seu programa com esses exemplos e com outros casos possíveis."
   ]
  },
  {
   "cell_type": "code",
   "execution_count": 42,
   "metadata": {},
   "outputs": [
    {
     "name": "stdout",
     "output_type": "stream",
     "text": [
      "+---------+-------------------------------------------------+\n",
      "| Entrada |                      Saída                      |\n",
      "+---------+-------------------------------------------------+\n",
      "|  500.5  |         Deposito realizado com sucesso!         |\n",
      "|         |                                                 |\n",
      "|   -100  | Valor inválido! Digite um valor maior que zero. |\n",
      "|         |                                                 |\n",
      "|    0    |             Encerrando o programa...            |\n",
      "+---------+-------------------------------------------------+\n"
     ]
    }
   ],
   "source": [
    "from prettytable import PrettyTable\n",
    "\n",
    "# Criando a tabela\n",
    "table = PrettyTable([\"Entrada\", \"Saída\"])\n",
    "\n",
    "# Adicionando os dados à tabela\n",
    "table.add_row([500.50, \"Deposito realizado com sucesso!\"])\n",
    "table.add_row([\"\", \"\"])\n",
    "table.add_row([-100, \"Valor inválido! Digite um valor maior que zero.\"])\n",
    "table.add_row([\"\", \"\"])\n",
    "table.add_row([0, \"Encerrando o programa...\"])\n",
    "\n",
    "# Exibindo a tabela\n",
    "print(table)\n"
   ]
  },
  {
   "cell_type": "markdown",
   "metadata": {},
   "source": [
    "# Resolução"
   ]
  },
  {
   "cell_type": "code",
   "execution_count": 43,
   "metadata": {},
   "outputs": [
    {
     "name": "stdout",
     "output_type": "stream",
     "text": [
      "Deposito realizado com sucesso!\n",
      "\n",
      "\n",
      "Valor invalido! Digite um valor maior que zero.\n",
      "\n",
      "\n",
      "Encerrando o programa...\n",
      "\n",
      "\n"
     ]
    }
   ],
   "source": [
    "input1, input2, input3 = [500.5, -100, 0]\n",
    "\n",
    "def caixa_eletronico(valor):\n",
    "  \"\"\"Função que recebe um valor de entrada e simula um caixa caixa_eletronico\"\"\"  \n",
    "\n",
    "  if valor > 0:\n",
    "    print(\"Deposito realizado com sucesso!\")\n",
    "    \n",
    "  elif valor < 0:\n",
    "    print(\"Valor invalido! Digite um valor maior que zero.\")\n",
    "  \n",
    "  else:\n",
    "    print(\"Encerrando o programa...\")\n",
    "\n",
    "  print('\\n')\n",
    "\n",
    "\n",
    "  \n",
    "caixa_eletronico(input1)\n",
    "caixa_eletronico(input2)\n",
    "caixa_eletronico(input3)"
   ]
  },
  {
   "cell_type": "markdown",
   "metadata": {},
   "source": [
    "# Desafio 2\n",
    "\n",
    "Após uma análise cuidadosa realizada pela equipe de desenvolvimento de uma empresa bancaria, foi identificado a necessidade de uma nova funcionalidade para otimizar os processos e melhorias da experiência dos usuários. Agora, sua tarefa é implementar uma solução que organize em ordem alfabética uma lista de ativos que será informada pelos usuários. Os ativos são representados por strings que representam seus tipos, como por exemplo: Reservas de liquidez, Ativos intangiveis e dentre outros.\n",
    "\n",
    "\n",
    "### Entrada\n",
    "\n",
    "1. A primeira entrada consiste em um número inteiro que representa a  quantidade de ativos que o usuário possui. \n",
    "\n",
    "2. Em seguida, o usuário deverá  informar, em linhas separadas, os tipos (strings) dos respectivos ativos.\n",
    "\n",
    "\n",
    "### Saída\n",
    "\n",
    "Seu programa deve exibir a lista de Ativos organizada em ordem alfabética. Cada ativo deve ser apresentado em uma linha separada.\n",
    "\n",
    "\n",
    "### Exemplos\n",
    "\n",
    "A tabela abaixo apresenta exemplos com alguns dados de entrada e suas respectivas saídas esperadas. Certifique-se de testar seu programa com esses exemplos e com outros casos possíveis."
   ]
  },
  {
   "cell_type": "code",
   "execution_count": 16,
   "metadata": {},
   "outputs": [
    {
     "name": "stdout",
     "output_type": "stream",
     "text": [
      "+--------------------------+--------------------------+\n",
      "|         Entrada          |          Saída           |\n",
      "+--------------------------+--------------------------+\n",
      "|            3             |                          |\n",
      "| Financiamento de Imovel  |         Deposito         |\n",
      "|         Deposito         | Financiamento de Imovel  |\n",
      "|    Reservas Bancarias    |    Reservas Bancarias    |\n",
      "|                          |                          |\n",
      "|            3             |                          |\n",
      "|   Carteiras de Credito   |   Carteiras de credito   |\n",
      "| Investimentos em Titulos | Derivativos financeiros  |\n",
      "| Derivativos financeiros  | Investimentos em titulos |\n",
      "|                          |                          |\n",
      "|            3             |                          |\n",
      "|   Reserva de liquidez    |    Ativos intangiveis    |\n",
      "|    Ativos intangiveis    |  Fundos de investimento  |\n",
      "|  Fundos de investimento  |   Reservas de liquidez   |\n",
      "+--------------------------+--------------------------+\n"
     ]
    }
   ],
   "source": [
    "from prettytable import PrettyTable\n",
    "\n",
    "# Criar a tabela\n",
    "table = PrettyTable()\n",
    "table.field_names = [\"Entrada\", \"Saída\"]\n",
    "\n",
    "# Add rows\n",
    "table.add_row([\"3\\nFinanciamento de Imovel\\nDeposito\\nReservas Bancarias\", \"\\nDeposito\\nFinanciamento de Imovel\\nReservas Bancarias\"])\n",
    "table.add_row([\"\", \"\"])\n",
    "table.add_row([\"3\\nCarteiras de Credito\\nInvestimentos em Titulos\\nDerivativos financeiros\", \"\\nCarteiras de credito\\nDerivativos financeiros\\nInvestimentos em titulos\"])\n",
    "table.add_row([\"\", \"\"])\n",
    "table.add_row([\"3\\nReserva de liquidez\\nAtivos intangiveis\\nFundos de investimento\", \"\\nAtivos intangiveis\\nFundos de investimento\\nReservas de liquidez\"])\n",
    "\n",
    "# Print the table\n",
    "print(table)\n"
   ]
  },
  {
   "cell_type": "markdown",
   "metadata": {},
   "source": [
    "# Resolução"
   ]
  },
  {
   "cell_type": "code",
   "execution_count": 28,
   "metadata": {},
   "outputs": [
    {
     "name": "stdout",
     "output_type": "stream",
     "text": [
      "Deposito\n",
      "Financiamento de Imovel\n",
      "Reservas Bancarias\n",
      "\n",
      "\n",
      "Carteiras de credito\n",
      "Derivativos financeiros\n",
      "Investimentos em titulos\n",
      "\n",
      "\n",
      "Ativos intangiveis\n",
      "Fundos de investimento\n",
      "Reservas de liquidez\n",
      "\n",
      "\n"
     ]
    }
   ],
   "source": [
    "# Entrada da quantidade de ativos\n",
    "input1 = [\"Financiamento de Imovel\", \"Deposito\" , \"Reservas Bancarias\"]\n",
    "input2 = [\"Carteiras de credito\", \"Investimentos em titulos\", \"Derivativos financeiros\"]\n",
    "input3 = [\"Reservas de liquidez\", \"Ativos intangiveis\", \"Fundos de investimento\"]\n",
    "\n",
    "\n",
    "def ordenar_ativos(quantidadeAtivos):\n",
    "  # Ordenar os ativos em ordem alfabética.\n",
    "  quantidadeAtivos.sort()\n",
    "  \n",
    "  # Imprimir a lista de ativos ordenada, conforme a tabela de exemplos.\n",
    "  for i in quantidadeAtivos:\n",
    "    print(i)\n",
    "  print('\\n')  \n",
    "  \n",
    "      \n",
    "  \n",
    "ordenar_ativos(input1)\n",
    "ordenar_ativos(input2)\n",
    "ordenar_ativos(input3)\n",
    "    "
   ]
  },
  {
   "cell_type": "markdown",
   "metadata": {},
   "source": [
    "# Desafio 3\n",
    "\n",
    "Você está trabalhando para uma empresa que utiliza extensivamente os serviços da AWS, e após algumas análises a equipe de segurança identificou que algumas senhas dos usuários no IAM são fracas e podem representar um risco à segurança dos dados da empresa. Para resolver esse problema, foi solicitado que você desenvolva um programa capaz de analisar as senhas dos usuários e fornecer uma validação de força com base em critérios predefinidos.\n",
    "\n",
    "**Requisitos de segurança para a senha:**\n",
    "\n",
    "- A senha deve ter no mínimo 8 caracteres.\n",
    "- A senha deve conter pelo menos uma letra maiúscula (A-Z).\n",
    "- A senha deve conter pelo menos uma letra minúscula (a-z).\n",
    "- A senha deve conter pelo menos um número (0-9).\n",
    "- A senha deve conter pelo menos um caractere especial, como !, @, #, $, %, etc.\n",
    "\n",
    "### Entrada\n",
    "\n",
    "A entrada será uma única string representando a senha que precisa ser validada.\n",
    "\n",
    "\n",
    "### Saída\n",
    "\n",
    "Seu programa deve retornar uma mensagem indicando se a senha fornecida pelo usuário atende aos requisitos de segurança ou não, juntamente com um feedback explicativo sobre os critérios considerados.\n",
    "\n",
    "\n",
    "### Exemplos\n"
   ]
  },
  {
   "cell_type": "code",
   "execution_count": 30,
   "metadata": {},
   "outputs": [
    {
     "name": "stdout",
     "output_type": "stream",
     "text": [
      "+----------------+---------------------------------------------------------------+\n",
      "|    Entrada     |                             Saída                             |\n",
      "+----------------+---------------------------------------------------------------+\n",
      "|      0101      | Sua senha é muito curta. Recomenda-se no mínimo 8 caracteres. |\n",
      "|                |                                                               |\n",
      "| 030609saturno* |    Sua senha atende aos requisitos de segurança. Parabéns!    |\n",
      "|                |                                                               |\n",
      "| 010203Jupiter  |       Sua senha não atende aos requisitos de segurança.       |\n",
      "+----------------+---------------------------------------------------------------+\n"
     ]
    }
   ],
   "source": [
    "# Criando a tabela\n",
    "tabela = PrettyTable([\"Entrada\", \"Saída\"])\n",
    "\n",
    "table = PrettyTable()\n",
    "\n",
    "# Add columns\n",
    "table.field_names = [\"Entrada\", \"Saída\"]\n",
    "\n",
    "# Add rows\n",
    "table.add_row([\"0101\", \"Sua senha é muito curta. Recomenda-se no mínimo 8 caracteres.\"])\n",
    "table.add_row([\"\", \"\"])\n",
    "table.add_row([\"030609saturno*\", \"Sua senha atende aos requisitos de segurança. Parabéns!\"])\n",
    "table.add_row([\"\", \"\"])\n",
    "table.add_row([\"010203Jupiter\", \"Sua senha não atende aos requisitos de segurança.\"])\n",
    "\n",
    "# Print the table\n",
    "print(table)"
   ]
  },
  {
   "cell_type": "markdown",
   "metadata": {},
   "source": [
    "# Resolução"
   ]
  },
  {
   "cell_type": "code",
   "execution_count": 41,
   "metadata": {},
   "outputs": [
    {
     "name": "stdout",
     "output_type": "stream",
     "text": [
      "Sua senha é muito curta. Recomenda-se no mínimo 8 caracteres. \n",
      "\n",
      "Sua senha atende aos requisitos de segurança. Parabéns! \n",
      "\n",
      "Sua senha não atende aos requisitos de segurança. \n",
      "\n"
     ]
    }
   ],
   "source": [
    "input1, input2, input3 = [\"0101\", \"030609Saturno*\", \"010203Jupiter\"]\n",
    "\n",
    "\n",
    "def verificar_forca_senha(senha):\n",
    "\n",
    "    comprimento_minimo = 8\n",
    "    tem_letra_maiuscula = any(char.isupper() for char in senha)\n",
    "    tem_letra_minuscula = any(char.islower() for char in senha)\n",
    "    tem_numero = any(char.isdigit() for char in senha)\n",
    "    tem_caractere_especial = any(char in \"!@#$%^&*()[]{};:,./<>?\\\\|`~\" for char in senha)\n",
    "\n",
    "    # Verificando o comprimento da senha\n",
    "    if len(senha) < comprimento_minimo:\n",
    "        return f\"Sua senha é muito curta. Recomenda-se no mínimo {comprimento_minimo} caracteres.\"\n",
    "\n",
    "    # Verifique se a senha contém pelo menos uma letra maiúscula e uma minúscula\n",
    "    if not (tem_letra_maiuscula and tem_letra_minuscula):\n",
    "        return \"Sua senha não atende aos requisitos de segurança.\"\n",
    "\n",
    "    # Verificando se a senha contém sequências comuns\n",
    "    sequencias_comuns = [\"123456\", \"abcdef\"]\n",
    "    for sequencia in sequencias_comuns:\n",
    "        if sequencia in senha:\n",
    "            return \"Sua senha contém uma sequência comum. Tente uma senha mais complexa.\"\n",
    "\n",
    "    # Verificando se a senha contém palavras comuns\n",
    "    palavras_comuns = [\"password\", \"123456\", \"qwerty\"]\n",
    "    if senha in palavras_comuns:\n",
    "        return \"Sua senha é muito comum. Tente uma senha mais complexa.\"\n",
    "\n",
    "    # Verificando o comprimento da senha\n",
    "    if len(senha) < comprimento_minimo:\n",
    "        return f\"Sua senha é muito curta. Recomenda-se no mínimo {comprimento_minimo} caracteres.\"\n",
    "\n",
    "    if not tem_caractere_especial:\n",
    "        return \"Sua senha não atende aos requisitos de segurança.\"\n",
    "\n",
    "    # Se todas as verificações passarem, a senha é considerada forte\n",
    "    return \"Sua senha atende aos requisitos de segurança. Parabéns!\"\n",
    "\n",
    "\n",
    "\n",
    "# Verificando a força da senha\n",
    "resultado1 = verificar_forca_senha(input1)\n",
    "resultado2 = verificar_forca_senha(input2)\n",
    "resultado3 = verificar_forca_senha(input3)\n",
    "\n",
    "# Imprimindo o resultado\n",
    "print(resultado1, '\\n')\n",
    "print(resultado2, '\\n')\n",
    "print(resultado3, '\\n')\n"
   ]
  }
 ],
 "metadata": {
  "kernelspec": {
   "display_name": "gas_kernel",
   "language": "python",
   "name": "gas_kernel"
  },
  "language_info": {
   "codemirror_mode": {
    "name": "ipython",
    "version": 3
   },
   "file_extension": ".py",
   "mimetype": "text/x-python",
   "name": "python",
   "nbconvert_exporter": "python",
   "pygments_lexer": "ipython3",
   "version": "3.12.2"
  }
 },
 "nbformat": 4,
 "nbformat_minor": 2
}
